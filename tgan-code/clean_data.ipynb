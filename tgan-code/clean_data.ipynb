{
 "cells": [
  {
   "cell_type": "code",
   "execution_count": 16,
   "metadata": {},
   "outputs": [],
   "source": [
    "import os\n",
    "import shutil"
   ]
  },
  {
   "cell_type": "code",
   "execution_count": 15,
   "metadata": {},
   "outputs": [
    {
     "name": "stdout",
     "output_type": "stream",
     "text": [
      "cat\n",
      ".DS_Store\n",
      "dog\n",
      "truck\n",
      "bird\n",
      "airplane\n",
      "ship\n",
      "frog\n",
      "horse\n",
      "deer\n",
      "automobile\n"
     ]
    }
   ],
   "source": [
    "# path = './cifar10/train/'\n",
    "# for i in os.listdir(path):\n",
    "#     print(i)\n",
    "#     class_path = path + i + \"/\"\n",
    "#     if i != \".DS_Store\":\n",
    "#         for j in os.listdir(class_path):\n",
    "#             old_name = j\n",
    "#             to_append = i\n",
    "#             try:\n",
    "# #                 print(class_path + to_append + \"_\" + old_name)\n",
    "#                 os.rename(class_path + old_name, class_path + to_append + \"_\" + old_name)\n",
    "#             except:\n",
    "#                 print(class_path + old_name)\n",
    "#                 print(i)"
   ]
  },
  {
   "cell_type": "code",
   "execution_count": 27,
   "metadata": {},
   "outputs": [
    {
     "name": "stdout",
     "output_type": "stream",
     "text": [
      "cat\n",
      ".DS_Store\n",
      "dog\n",
      "truck\n",
      "bird\n",
      "airplane\n",
      "ship\n",
      "frog\n",
      "horse\n",
      "deer\n",
      "automobile\n"
     ]
    }
   ],
   "source": [
    "path = './cifar10/train/'\n",
    "for i in os.listdir(path):\n",
    "    print(i)\n",
    "    class_path = path + i + \"/\"\n",
    "    if i != \".DS_Store\":\n",
    "        for j in os.listdir(class_path):\n",
    "            source = class_path + j\n",
    "            destination = './cifar10/all_train/'\n",
    "            try:\n",
    "#                 print(source)\n",
    "#                 print(destination)\n",
    "                shutil.move(source, destination)\n",
    "            except:\n",
    "                print(\"source: \", source)\n",
    "                print(\"destination: \", destination)\n",
    "                print(i)"
   ]
  },
  {
   "cell_type": "code",
   "execution_count": 29,
   "metadata": {},
   "outputs": [
    {
     "name": "stdout",
     "output_type": "stream",
     "text": [
      "{'cat': 1, 'dog': 2, 'truck': 3, 'bird': 4, 'airplane': 5, 'ship': 6, 'frog': 7, 'horse': 8, 'deer': 9, 'automobile': 10}\n"
     ]
    }
   ],
   "source": [
    "class_map = {\"cat\": 1, \"dog\": 2, \"truck\": 3, \"bird\":4, \"airplane\":5, \"ship\":6, \"frog\":7, \"horse\":8, \"deer\":9, \"automobile\":10}\n",
    "print(class_map)\n",
    "\n",
    "\n"
   ]
  },
  {
   "cell_type": "code",
   "execution_count": 31,
   "metadata": {},
   "outputs": [
    {
     "name": "stdout",
     "output_type": "stream",
     "text": [
      "cat\n",
      ".DS_Store\n",
      "dog\n",
      "truck\n",
      "bird\n",
      "airplane\n",
      "ship\n",
      "frog\n",
      "horse\n",
      "deer\n",
      "automobile\n"
     ]
    }
   ],
   "source": [
    "path = './cifar10/train/'\n",
    "for i in os.listdir(path):\n",
    "    print(i)\n",
    "    class_path = path + i + \"/\"\n",
    "    if i != \".DS_Store\":\n",
    "        for j in os.listdir(class_path):\n",
    "            old_name = j\n",
    "            to_append = str(class_map[i])\n",
    "            try:\n",
    "#                 print(class_path + to_append + \"_\" + old_name)\n",
    "                os.rename(class_path + old_name, class_path + to_append + \"_\" + old_name)\n",
    "            except:\n",
    "                print(class_path + old_name)\n",
    "                print(i)"
   ]
  },
  {
   "cell_type": "code",
   "execution_count": 32,
   "metadata": {},
   "outputs": [
    {
     "name": "stdout",
     "output_type": "stream",
     "text": [
      "cat\n",
      ".DS_Store\n",
      "dog\n",
      "truck\n",
      "bird\n",
      "airplane\n",
      "ship\n",
      "frog\n",
      "horse\n",
      "deer\n",
      "automobile\n"
     ]
    }
   ],
   "source": [
    "path = './cifar10/train/'\n",
    "for i in os.listdir(path):\n",
    "    print(i)\n",
    "    class_path = path + i + \"/\"\n",
    "    if i != \".DS_Store\":\n",
    "        for j in os.listdir(class_path):\n",
    "            source = class_path + j\n",
    "            destination = './cifar10/all_train_int/'\n",
    "            try:\n",
    "#                 print(source)\n",
    "#                 print(destination)\n",
    "                shutil.move(source, destination)\n",
    "            except:\n",
    "                print(\"source: \", source)\n",
    "                print(\"destination: \", destination)\n",
    "                print(i)"
   ]
  },
  {
   "cell_type": "code",
   "execution_count": 34,
   "metadata": {},
   "outputs": [],
   "source": [
    "class_map1 = {\"cat\": 0, \"dog\": 1, \"truck\": 2, \"bird\":3, \"airplane\":4, \"ship\":5, \"frog\":6, \"horse\":7, \"deer\":8, \"automobile\":9}\n",
    "\n",
    "\n"
   ]
  },
  {
   "cell_type": "code",
   "execution_count": 35,
   "metadata": {},
   "outputs": [
    {
     "name": "stdout",
     "output_type": "stream",
     "text": [
      "cat\n",
      ".DS_Store\n",
      "dog\n",
      "truck\n",
      "bird\n",
      "airplane\n",
      "ship\n",
      "frog\n",
      "horse\n",
      "deer\n",
      "automobile\n"
     ]
    }
   ],
   "source": [
    "path = './cifar10/train/'\n",
    "for i in os.listdir(path):\n",
    "    print(i)\n",
    "    class_path = path + i + \"/\"\n",
    "    if i != \".DS_Store\":\n",
    "        for j in os.listdir(class_path):\n",
    "            old_name = j\n",
    "            to_append = str(class_map1[i])\n",
    "            try:\n",
    "#                 print(class_path + to_append + \"_\" + old_name)\n",
    "                os.rename(class_path + old_name, class_path + to_append + \"_\" + old_name)\n",
    "            except:\n",
    "                print(class_path + old_name)\n",
    "                print(i)"
   ]
  },
  {
   "cell_type": "code",
   "execution_count": 36,
   "metadata": {},
   "outputs": [
    {
     "name": "stdout",
     "output_type": "stream",
     "text": [
      "cat\n",
      ".DS_Store\n",
      "dog\n",
      "truck\n",
      "bird\n",
      "airplane\n",
      "ship\n",
      "frog\n",
      "horse\n",
      "deer\n",
      "automobile\n"
     ]
    }
   ],
   "source": [
    "path = './cifar10/train/'\n",
    "for i in os.listdir(path):\n",
    "    print(i)\n",
    "    class_path = path + i + \"/\"\n",
    "    if i != \".DS_Store\":\n",
    "        for j in os.listdir(class_path):\n",
    "            source = class_path + j\n",
    "            destination = './cifar10/all_train_int_0/'\n",
    "            try:\n",
    "                shutil.move(source, destination)\n",
    "            except:\n",
    "                print(\"source: \", source)\n",
    "                print(\"destination: \", destination)\n",
    "                print(i)"
   ]
  },
  {
   "cell_type": "code",
   "execution_count": null,
   "metadata": {},
   "outputs": [],
   "source": []
  }
 ],
 "metadata": {
  "kernelspec": {
   "display_name": "Python 3",
   "language": "python",
   "name": "python3"
  },
  "language_info": {
   "codemirror_mode": {
    "name": "ipython",
    "version": 3
   },
   "file_extension": ".py",
   "mimetype": "text/x-python",
   "name": "python",
   "nbconvert_exporter": "python",
   "pygments_lexer": "ipython3",
   "version": "3.7.4"
  }
 },
 "nbformat": 4,
 "nbformat_minor": 4
}
